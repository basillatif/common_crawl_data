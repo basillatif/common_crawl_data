{
 "cells": [
  {
   "cell_type": "code",
   "execution_count": 1,
   "metadata": {},
   "outputs": [
    {
     "data": {
      "application/vnd.jupyter.widget-view+json": {
       "model_id": "48292987a62945a387ff314458bac537",
       "version_major": 2,
       "version_minor": 0
      },
      "text/plain": [
       "VBox()"
      ]
     },
     "metadata": {},
     "output_type": "display_data"
    },
    {
     "name": "stdout",
     "output_type": "stream",
     "text": [
      "Starting Spark application\n"
     ]
    },
    {
     "data": {
      "text/html": [
       "<table>\n",
       "<tr><th>ID</th><th>YARN Application ID</th><th>Kind</th><th>State</th><th>Spark UI</th><th>Driver log</th><th>Current session?</th></tr><tr><td>0</td><td>application_1591030312141_0026</td><td>pyspark</td><td>idle</td><td><a target=\"_blank\" href=\"http://ip-172-31-90-55.ec2.internal:20888/proxy/application_1591030312141_0026/\">Link</a></td><td><a target=\"_blank\" href=\"http://ip-172-31-81-97.ec2.internal:8042/node/containerlogs/container_1591030312141_0026_01_000001/livy\">Link</a></td><td>✔</td></tr></table>"
      ],
      "text/plain": [
       "<IPython.core.display.HTML object>"
      ]
     },
     "metadata": {},
     "output_type": "display_data"
    },
    {
     "data": {
      "application/vnd.jupyter.widget-view+json": {
       "model_id": "",
       "version_major": 2,
       "version_minor": 0
      },
      "text/plain": [
       "FloatProgress(value=0.0, bar_style='info', description='Progress:', layout=Layout(height='25px', width='50%'),…"
      ]
     },
     "metadata": {},
     "output_type": "display_data"
    },
    {
     "name": "stdout",
     "output_type": "stream",
     "text": [
      "SparkSession available as 'spark'.\n"
     ]
    },
    {
     "data": {
      "application/vnd.jupyter.widget-view+json": {
       "model_id": "",
       "version_major": 2,
       "version_minor": 0
      },
      "text/plain": [
       "FloatProgress(value=0.0, bar_style='info', description='Progress:', layout=Layout(height='25px', width='50%'),…"
      ]
     },
     "metadata": {},
     "output_type": "display_data"
    }
   ],
   "source": [
    "from pyspark.sql import functions as F"
   ]
  },
  {
   "cell_type": "code",
   "execution_count": 3,
   "metadata": {},
   "outputs": [
    {
     "data": {
      "application/vnd.jupyter.widget-view+json": {
       "model_id": "388f645b971d46578520a25050d19155",
       "version_major": 2,
       "version_minor": 0
      },
      "text/plain": [
       "VBox()"
      ]
     },
     "metadata": {},
     "output_type": "display_data"
    },
    {
     "data": {
      "application/vnd.jupyter.widget-view+json": {
       "model_id": "",
       "version_major": 2,
       "version_minor": 0
      },
      "text/plain": [
       "FloatProgress(value=0.0, bar_style='info', description='Progress:', layout=Layout(height='25px', width='50%'),…"
      ]
     },
     "metadata": {},
     "output_type": "display_data"
    },
    {
     "name": "stdout",
     "output_type": "stream",
     "text": [
      "+--------------------+--------------------+--------------------+------------+----------------------+----------------------+----------------------+----------------------+------------------------+--------------------------+-----------------------+-----------------------+------------+--------+--------------------+---------+-------------------+------------+--------------------+-----------------+---------------------+--------------------+------------------+------------------+----------------+---------------+----------------+\n",
      "|         url_surtkey|                 url|       url_host_name|url_host_tld|url_host_2nd_last_part|url_host_3rd_last_part|url_host_4th_last_part|url_host_5th_last_part|url_host_registry_suffix|url_host_registered_domain|url_host_private_suffix|url_host_private_domain|url_protocol|url_port|            url_path|url_query|         fetch_time|fetch_status|      content_digest|content_mime_type|content_mime_detected|       warc_filename|warc_record_offset|warc_record_length|    warc_segment|          crawl|          subset|\n",
      "+--------------------+--------------------+--------------------+------------+----------------------+----------------------+----------------------+----------------------+------------------------+--------------------------+-----------------------+-----------------------+------------+--------+--------------------+---------+-------------------+------------+--------------------+-----------------+---------------------+--------------------+------------------+------------------+----------------+---------------+----------------+\n",
      "|at,alpinpartner-t...|http://www.alpinp...|www.alpinpartner-...|          at|    alpinpartner-tirol|                   www|                  null|                  null|                      at|      alpinpartner-tiro...|                     at|   alpinpartner-tiro...|        http|    null|/index.php/sommer...|     null|2017-11-23 20:34:19|         404|5S6IDTGY25GCYPZBN...|        text/html|            text/html|crawl-data/CC-MAI...|          11270445|              1177|1510934806939.98|CC-MAIN-2017-47|crawldiagnostics|\n",
      "|at,truckscout24)/...|https://www.truck...| www.truckscout24.at|          at|          truckscout24|                   www|                  null|                  null|                      at|           truckscout24.at|                     at|        truckscout24.at|       https|    null|/fahrzeugdetails/...|     null|2017-11-23 20:43:55|         302|NCQ5ZY475NLRA2L5Y...|        text/html|            text/html|crawl-data/CC-MAI...|          32403642|               902|1510934806939.98|CC-MAIN-2017-47|crawldiagnostics|\n",
      "|at,alpinpartner-t...|http://www.alpinp...|www.alpinpartner-...|          at|    alpinpartner-tirol|                   www|                  null|                  null|                      at|      alpinpartner-tiro...|                     at|   alpinpartner-tiro...|        http|    null|/index.php/sommer...|     null|2017-11-23 22:30:01|         404|5S6IDTGY25GCYPZBN...|        text/html|            text/html|crawl-data/CC-MAI...|          11485639|              1195|1510934806979.99|CC-MAIN-2017-47|crawldiagnostics|\n",
      "|at,truckscout24)/...|http://www.trucks...| www.truckscout24.at|          at|          truckscout24|                   www|                  null|                  null|                      at|           truckscout24.at|                     at|        truckscout24.at|        http|    null|/fahrzeugdetails/...|     null|2017-11-22 05:50:19|         301|3I42H3S6NNFQ2MSVX...|              unk| application/octet...|crawl-data/CC-MAI...|          19033938|               561|1510934806465.90|CC-MAIN-2017-47|crawldiagnostics|\n",
      "|at,alpinpartner-t...|http://www.alpinp...|www.alpinpartner-...|          at|    alpinpartner-tirol|                   www|                  null|                  null|                      at|      alpinpartner-tiro...|                     at|   alpinpartner-tiro...|        http|    null|/index.php/sommer...|     null|2017-11-21 02:34:37|         404|5S6IDTGY25GCYPZBN...|        text/html|            text/html|crawl-data/CC-MAI...|          10599485|              1188|1510934806310.85|CC-MAIN-2017-47|crawldiagnostics|\n",
      "|at,truckscout24)/...|https://www.truck...| www.truckscout24.at|          at|          truckscout24|                   www|                  null|                  null|                      at|           truckscout24.at|                     at|        truckscout24.at|       https|    null|/fahrzeugdetails/...|     null|2017-11-22 05:50:20|         302|MZOTVFV4VVTESNOPZ...|        text/html|            text/html|crawl-data/CC-MAI...|          32011986|               909|1510934806465.90|CC-MAIN-2017-47|crawldiagnostics|\n",
      "|at,alpinpartner-t...|http://www.alpinp...|www.alpinpartner-...|          at|    alpinpartner-tirol|                   www|                  null|                  null|                      at|      alpinpartner-tiro...|                     at|   alpinpartner-tiro...|        http|    null|/index.php/sommer...|     null|2017-11-25 07:32:40|         404|5S6IDTGY25GCYPZBN...|        text/html|            text/html|crawl-data/CC-MAI...|          12601562|              1190|1510934809695.97|CC-MAIN-2017-47|crawldiagnostics|\n",
      "|at,truckscout24)/...|http://www.trucks...| www.truckscout24.at|          at|          truckscout24|                   www|                  null|                  null|                      at|           truckscout24.at|                     at|        truckscout24.at|        http|    null|/fahrzeugdetails/...|     null|2017-11-25 00:22:48|         301|3I42H3S6NNFQ2MSVX...|              unk| application/octet...|crawl-data/CC-MAI...|          19836058|               556|1510934809160.77|CC-MAIN-2017-47|crawldiagnostics|\n",
      "|at,alpinpartner-t...|http://www.alpinp...|www.alpinpartner-...|          at|    alpinpartner-tirol|                   www|                  null|                  null|                      at|      alpinpartner-tiro...|                     at|   alpinpartner-tiro...|        http|    null|/index.php/sommer...|     null|2017-11-25 07:43:03|         404|5S6IDTGY25GCYPZBN...|        text/html|            text/html|crawl-data/CC-MAI...|          11207149|              1182|1510934809695.97|CC-MAIN-2017-47|crawldiagnostics|\n",
      "|at,truckscout24)/...|https://www.truck...| www.truckscout24.at|          at|          truckscout24|                   www|                  null|                  null|                      at|           truckscout24.at|                     at|        truckscout24.at|       https|    null|/fahrzeugdetails/...|     null|2017-11-25 00:22:49|         302|JZK5O7IXYZPDOVBGE...|        text/html|            text/html|crawl-data/CC-MAI...|          32669763|               904|1510934809160.77|CC-MAIN-2017-47|crawldiagnostics|\n",
      "|at,alpinpartner-t...|http://www.alpinp...|www.alpinpartner-...|          at|    alpinpartner-tirol|                   www|                  null|                  null|                      at|      alpinpartner-tiro...|                     at|   alpinpartner-tiro...|        http|    null|/index.php/sommer...|     null|2017-11-25 07:45:32|         404|5S6IDTGY25GCYPZBN...|        text/html|            text/html|crawl-data/CC-MAI...|          10855800|              1188|1510934809695.97|CC-MAIN-2017-47|crawldiagnostics|\n",
      "|at,truckscout24)/...|http://www.trucks...| www.truckscout24.at|          at|          truckscout24|                   www|                  null|                  null|                      at|           truckscout24.at|                     at|        truckscout24.at|        http|    null|/fahrzeugdetails/...|     null|2017-11-25 07:59:57|         301|3I42H3S6NNFQ2MSVX...|              unk| application/octet...|crawl-data/CC-MAI...|          20960113|               559|1510934809695.97|CC-MAIN-2017-47|crawldiagnostics|\n",
      "|at,alpinpartner-t...|http://www.alpinp...|www.alpinpartner-...|          at|    alpinpartner-tirol|                   www|                  null|                  null|                      at|      alpinpartner-tiro...|                     at|   alpinpartner-tiro...|        http|    null|/index.php/sommer...|     null|2017-11-24 22:27:34|         404|5S6IDTGY25GCYPZBN...|        text/html|            text/html|crawl-data/CC-MAI...|          11481590|              1189|1510934808972.93|CC-MAIN-2017-47|crawldiagnostics|\n",
      "|at,truckscout24)/...|https://www.truck...| www.truckscout24.at|          at|          truckscout24|                   www|                  null|                  null|                      at|           truckscout24.at|                     at|        truckscout24.at|       https|    null|/fahrzeugdetails/...|     null|2017-11-25 07:59:58|         302|UZYOCO2KOIVV2FIXL...|        text/html|            text/html|crawl-data/CC-MAI...|          32023787|               907|1510934809695.97|CC-MAIN-2017-47|crawldiagnostics|\n",
      "|at,alpinpartner-t...|http://www.alpinp...|www.alpinpartner-...|          at|    alpinpartner-tirol|                   www|                  null|                  null|                      at|      alpinpartner-tiro...|                     at|   alpinpartner-tiro...|        http|    null|/index.php/sommer...|     null|2017-11-25 07:20:34|         404|5S6IDTGY25GCYPZBN...|        text/html|            text/html|crawl-data/CC-MAI...|          10998907|              1187|1510934809695.97|CC-MAIN-2017-47|crawldiagnostics|\n",
      "|at,truckscout24)/...|http://www.trucks...| www.truckscout24.at|          at|          truckscout24|                   www|                  null|                  null|                      at|           truckscout24.at|                     at|        truckscout24.at|        http|    null|/fahrzeugdetails/...|     null|2017-11-22 11:17:17|         301|3I42H3S6NNFQ2MSVX...|              unk| application/octet...|crawl-data/CC-MAI...|          19628081|               550|1510934806569.66|CC-MAIN-2017-47|crawldiagnostics|\n",
      "|at,alpinpartner-t...|http://www.alpinp...|www.alpinpartner-...|          at|    alpinpartner-tirol|                   www|                  null|                  null|                      at|      alpinpartner-tiro...|                     at|   alpinpartner-tiro...|        http|    null|/index.php/sommer...|     null|2017-11-22 01:39:59|         404|5S6IDTGY25GCYPZBN...|        text/html|            text/html|crawl-data/CC-MAI...|          10392941|              1186|1510934806447.28|CC-MAIN-2017-47|crawldiagnostics|\n",
      "|at,truckscout24)/...|https://www.truck...| www.truckscout24.at|          at|          truckscout24|                   www|                  null|                  null|                      at|           truckscout24.at|                     at|        truckscout24.at|       https|    null|/fahrzeugdetails/...|     null|2017-11-22 11:17:17|         302|4MZF224FKKW74RIQB...|        text/html|            text/html|crawl-data/CC-MAI...|          32705793|               902|1510934806569.66|CC-MAIN-2017-47|crawldiagnostics|\n",
      "|at,alpinpartner-t...|http://www.alpinp...|www.alpinpartner-...|          at|    alpinpartner-tirol|                   www|                  null|                  null|                      at|      alpinpartner-tiro...|                     at|   alpinpartner-tiro...|        http|    null|/index.php/sommer...|     null|2017-11-23 22:29:42|         404|5S6IDTGY25GCYPZBN...|        text/html|            text/html|crawl-data/CC-MAI...|          11844653|              1177|1510934806979.99|CC-MAIN-2017-47|crawldiagnostics|\n",
      "|at,truckscout24)/...|http://www.trucks...| www.truckscout24.at|          at|          truckscout24|                   www|                  null|                  null|                      at|           truckscout24.at|                     at|        truckscout24.at|        http|    null|/fahrzeugdetails/...|     null|2017-11-23 20:36:12|         301|3I42H3S6NNFQ2MSVX...|              unk| application/octet...|crawl-data/CC-MAI...|          19977187|               556|1510934806939.98|CC-MAIN-2017-47|crawldiagnostics|\n",
      "+--------------------+--------------------+--------------------+------------+----------------------+----------------------+----------------------+----------------------+------------------------+--------------------------+-----------------------+-----------------------+------------+--------+--------------------+---------+-------------------+------------+--------------------+-----------------+---------------------+--------------------+------------------+------------------+----------------+---------------+----------------+\n",
      "only showing top 20 rows"
     ]
    }
   ],
   "source": [
    "input_bucket = 's3://commoncrawl/cc-index/table/cc-main/warc/'\n",
    "#input_path = '/parquet/product_category=Books/*.parquet'\n",
    "df = spark.read.parquet(input_bucket)\n",
    "df.show()"
   ]
  },
  {
   "cell_type": "code",
   "execution_count": null,
   "metadata": {},
   "outputs": [
    {
     "data": {
      "application/vnd.jupyter.widget-view+json": {
       "model_id": "384f1845318d4144a14923ef3ab4d877",
       "version_major": 2,
       "version_minor": 0
      },
      "text/plain": [
       "VBox()"
      ]
     },
     "metadata": {},
     "output_type": "display_data"
    },
    {
     "data": {
      "application/vnd.jupyter.widget-view+json": {
       "model_id": "ca6aefcd975f4eec82a9d37b2c8106b2",
       "version_major": 2,
       "version_minor": 0
      },
      "text/plain": [
       "FloatProgress(value=0.0, bar_style='info', description='Progress:', layout=Layout(height='25px', width='50%'),…"
      ]
     },
     "metadata": {},
     "output_type": "display_data"
    }
   ],
   "source": [
    "df.createOrReplaceTempView(\"urls\")\n",
    "\n",
    "sqlDF = spark.sql(\"SELECT count(*) FROM urls\")\n",
    "sqlDF.show()"
   ]
  },
  {
   "cell_type": "code",
   "execution_count": null,
   "metadata": {},
   "outputs": [],
   "source": [
    "df.createOrReplaceTempView(\"urls\")\n",
    "\n",
    "sqlDF = spark.sql(\"SELECT distinct url FROM urls\")\n",
    "sqlDF.show()"
   ]
  }
 ],
 "metadata": {
  "kernelspec": {
   "display_name": "PySpark",
   "language": "",
   "name": "pysparkkernel"
  },
  "language_info": {
   "codemirror_mode": {
    "name": "python",
    "version": 3
   },
   "mimetype": "text/x-python",
   "name": "pyspark",
   "pygments_lexer": "python3"
  }
 },
 "nbformat": 4,
 "nbformat_minor": 4
}
